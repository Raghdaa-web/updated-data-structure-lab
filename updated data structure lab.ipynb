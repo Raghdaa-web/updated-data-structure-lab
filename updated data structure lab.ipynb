{
 "cells": [
  {
   "cell_type": "code",
   "execution_count": 12,
   "id": "8e65813d",
   "metadata": {},
   "outputs": [
    {
     "name": "stdout",
     "output_type": "stream",
     "text": [
      "Enter quantity of t-shirts availble: 89\n",
      "Enter quantity of mugs availble: 80\n",
      "Enter quantity of hats availble: 70\n",
      "Enter quantity of books availble: 50\n",
      "Enter quantity of keychains availble: 69\n",
      "Enter the required products : mug\n",
      "Enter the required products : hat\n",
      "Enter the required products : book\n",
      "the requested order :  {'hat', 'book', 'mug'}\n",
      "/nOrder Statistics:\n",
      "Total Products Ordered: 3\n",
      "Percentage of Products Ordered: 60.00%\n",
      "\n",
      "Updated Inventory:\n",
      "T-shirt: 89\n",
      "Mug: 80\n",
      "Hat: 70\n",
      "Book: 50\n",
      "Keychain: 69\n"
     ]
    }
   ],
   "source": [
    "products = [\"t-shirt\", \"mug\", \"hat\", \"book\", \"keychain\"]\n",
    "inventory = {}\n",
    "for product in products: \n",
    "    quantity = int(input(f\"Enter quantity of {product}s availble: \"))\n",
    "    inventory[product] = quantity\n",
    "customer_orders = set()\n",
    "for _ in range (3):\n",
    "    order = input(\"Enter the required products : \")\n",
    "    if order in  products:\n",
    "        customer_orders.add(order)\n",
    "    else:\n",
    "        print(f\"this product {order}s is not available\" ) \n",
    "        \n",
    "print(\"the requested order : \", customer_orders)\n",
    "\n",
    "total_products_ordered = len(customer_orders)\n",
    "percentage_ordered = (total_products_ordered / len(products)) * 100\n",
    "order_status = (total_products_ordered, percentage_ordered)\n",
    "\n",
    "print(\"/nOrder Statistics:\")\n",
    "print(f\"Total Products Ordered: {order_status[0]}\")\n",
    "print(f\"Percentage of Products Ordered: {order_status[1]:.2f}%\")\n",
    "\n",
    "print(\"\\nUpdated Inventory:\")\n",
    "for product, quantity in inventory.items():\n",
    "    print(f\"{product.capitalize()}: {quantity}\")\n"
   ]
  },
  {
   "cell_type": "code",
   "execution_count": null,
   "id": "527f4434",
   "metadata": {},
   "outputs": [],
   "source": []
  }
 ],
 "metadata": {
  "kernelspec": {
   "display_name": "Python 3 (ipykernel)",
   "language": "python",
   "name": "python3"
  },
  "language_info": {
   "codemirror_mode": {
    "name": "ipython",
    "version": 3
   },
   "file_extension": ".py",
   "mimetype": "text/x-python",
   "name": "python",
   "nbconvert_exporter": "python",
   "pygments_lexer": "ipython3",
   "version": "3.9.13"
  }
 },
 "nbformat": 4,
 "nbformat_minor": 5
}
